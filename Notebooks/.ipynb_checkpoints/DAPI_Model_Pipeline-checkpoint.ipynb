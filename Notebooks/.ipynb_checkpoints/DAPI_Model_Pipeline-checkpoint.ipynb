{
 "cells": [
  {
   "cell_type": "code",
   "execution_count": 1,
   "id": "4c4bc74f-512c-4fc0-b31e-aebbb9b4e50c",
   "metadata": {},
   "outputs": [
    {
     "name": "stdout",
     "output_type": "stream",
     "text": [
      "2025-10-02 15:43:52,792 [INFO] WRITING LOG OUTPUT TO C:\\Users\\v.aubry\\.cellpose\\run.log\n",
      "2025-10-02 15:43:52,794 [INFO] \n",
      "cellpose version: \t4.0.7.dev14+gd95f58a66 \n",
      "platform:       \twin32 \n",
      "python version: \t3.10.18 \n",
      "torch version:  \t2.8.0+cu128\n",
      "2025-10-02 15:43:53,232 [INFO] ** TORCH CUDA version installed and working. **\n"
     ]
    }
   ],
   "source": [
    "#Import#\n",
    "\n",
    "from cellpose import models, core, io, plot\n",
    "import numpy as np\n",
    "from pathlib import Path\n",
    "from tqdm import trange\n",
    "import matplotlib.pyplot as plt\n",
    "from cellpose import train\n",
    "from cellpose import metrics\n",
    "\n",
    "# run this to get printing of progress\n",
    "io.logger_setup()\n",
    "\n",
    "#Check if colab notebook instance has GPU access\n",
    "if core.use_gpu()==False:\n",
    "  raise ImportError(\"No GPU access, change your runtime\")"
   ]
  },
  {
   "cell_type": "code",
   "execution_count": 3,
   "id": "e0090283-1dd7-415e-b03f-045f7859bbc6",
   "metadata": {},
   "outputs": [
    {
     "name": "stdout",
     "output_type": "stream",
     "text": [
      "15 files in DAPI folder:\n",
      "ATR1_24h--W00032--P00015--Z00000--T00000--DAPI SEM.tif\n",
      "ATR1_8h--W00029--P00035--Z00000--T00000--DAPI SEM.tif\n",
      "ATR1_UT--W00026--P00005--Z00000--T00000--DAPI SEM.tif\n",
      "ATR2_24h--W00044--P00021--Z00000--T00000--DAPI SEM.tif\n",
      "ATR2_8h--W00041--P00005--Z00000--T00000--DAPI SEM.tif\n",
      "ATR2_UT--W00038--P00017--Z00000--T00000--DAPI SEM.tif\n",
      "ATR3_24h--W00056--P00018--Z00000--T00000--DAPI SEM.tif\n",
      "ATR3_8h--W00053--P00016--Z00000--T00000--DAPI SEM.tif\n",
      "ATR3_UT--W00050--P00018--Z00000--T00000--DAPI SEM.tif\n",
      "ATR4_24h--W00068--P00024--Z00000--T00000--DAPI SEM.tif\n",
      "ATR4_8h--W00065--P00012--Z00000--T00000--DAPI SEM.tif\n",
      "ATR4_UT--W00062--P00010--Z00000--T00000--DAPI SEM.tif\n",
      "UT_24h--W00020--P00003--Z00000--T00000--DAPI SEM.tif\n",
      "UT_8h--W00017--P00004--Z00000--T00000--DAPI SEM.tif\n",
      "UT_UT--W00014--P00010--Z00000--T00000--DAPI SEM.tif\n"
     ]
    }
   ],
   "source": [
    "#Data#\n",
    "\n",
    "# defining the path to the DAPI pictures\n",
    "DAPI_dir = r'Y:\\Group Members\\Valentin Aubry\\01_Data\\Test_Data_Andreas_hard'\n",
    "if not Path(DAPI_dir).exists():\n",
    "  raise FileNotFoundError(\"directory does not exist\")\n",
    "\n",
    "pred_ext = \"_seg.npy\"\n",
    "\n",
    "\n",
    "# list all training files \n",
    "files = [f for f in Path(DAPI_dir).glob(\"*\") if \"DAPI SEM.tif\"  in f.name]\n",
    "\n",
    "if(len(files)==0):\n",
    "  raise FileNotFoundError(\"no files found, did you specify the correct folder and extension?\")\n",
    "else:\n",
    "  print(f\"{len(files)} files in DAPI folder:\")\n",
    "\n",
    "for f in files:\n",
    "  print(f.name)\n",
    "\n",
    "\n",
    "#defining a list of all pictures in the DAPI directory\n",
    "DAPI_dir_path = Path(DAPI_dir)\n",
    "DAPI_list = list(DAPI_dir_path.glob('*.tif'))\n"
   ]
  },
  {
   "cell_type": "code",
   "execution_count": 4,
   "id": "a061509c-804e-4db2-9d93-828a68023ac7",
   "metadata": {},
   "outputs": [
    {
     "name": "stdout",
     "output_type": "stream",
     "text": [
      "2025-10-02 15:48:37,563 [INFO] ** TORCH CUDA version installed and working. **\n",
      "2025-10-02 15:48:37,565 [INFO] >>>> using GPU (CUDA)\n",
      "2025-10-02 15:48:40,659 [INFO] >>>> loading model C:\\Users\\v.aubry\\Desktop\\Microscopy_Data\\Jupyter_Notebook\\models\\DAPI_model\n",
      "2025-10-02 15:49:19,282 [WARNING] channels deprecated in v4.0.1+. If data contain more than 3 channels, only the first 3 channels will be used\n",
      "2025-10-02 15:49:19,304 [INFO] 0%|          | 0/60 [00:00<?, ?it/s]\n",
      "2025-10-02 15:50:01,526 [INFO] 5%|5         | 3/60 [00:42<13:22, 14.07s/it]\n",
      "2025-10-02 15:50:19,309 [INFO] 5%|5         | 3/60 [01:00<13:22, 14.07s/it]\n",
      "2025-10-02 15:50:43,790 [INFO] 10%|#         | 6/60 [01:24<12:40, 14.08s/it]\n",
      "2025-10-02 15:50:59,318 [INFO] 10%|#         | 6/60 [01:40<12:40, 14.08s/it]\n",
      "2025-10-02 15:51:14,103 [INFO] 13%|#3        | 8/60 [01:54<12:32, 14.47s/it]\n",
      "2025-10-02 15:51:29,323 [INFO] 13%|#3        | 8/60 [02:10<12:32, 14.47s/it]\n",
      "2025-10-02 15:51:59,299 [INFO] 18%|#8        | 11/60 [02:39<12:01, 14.73s/it]\n",
      "2025-10-02 15:52:09,328 [INFO] 18%|#8        | 11/60 [02:50<12:01, 14.73s/it]\n",
      "2025-10-02 15:52:42,344 [INFO] 23%|##3       | 14/60 [03:23<11:10, 14.58s/it]\n",
      "2025-10-02 15:52:59,332 [INFO] 23%|##3       | 14/60 [03:40<11:10, 14.58s/it]\n",
      "2025-10-02 15:53:26,269 [INFO] 28%|##8       | 17/60 [04:06<10:27, 14.60s/it]\n",
      "2025-10-02 15:53:39,336 [INFO] 28%|##8       | 17/60 [04:20<10:27, 14.60s/it]\n",
      "2025-10-02 15:54:09,405 [INFO] 33%|###3      | 20/60 [04:50<09:41, 14.53s/it]\n",
      "2025-10-02 15:54:29,341 [INFO] 33%|###3      | 20/60 [05:10<09:41, 14.53s/it]\n",
      "2025-10-02 15:54:54,298 [INFO] 38%|###8      | 23/60 [05:34<09:02, 14.67s/it]\n",
      "2025-10-02 15:55:09,346 [INFO] 38%|###8      | 23/60 [05:50<09:02, 14.67s/it]\n",
      "2025-10-02 15:55:37,358 [INFO] 43%|####3     | 26/60 [06:18<08:15, 14.57s/it]\n",
      "2025-10-02 15:55:49,350 [INFO] 43%|####3     | 26/60 [06:30<08:15, 14.57s/it]\n",
      "2025-10-02 15:56:20,559 [INFO] 48%|####8     | 29/60 [07:01<07:30, 14.52s/it]\n",
      "2025-10-02 15:56:39,356 [INFO] 48%|####8     | 29/60 [07:20<07:30, 14.52s/it]\n",
      "2025-10-02 15:57:03,637 [INFO] 53%|#####3    | 32/60 [07:44<06:45, 14.47s/it]\n",
      "2025-10-02 15:57:19,361 [INFO] 53%|#####3    | 32/60 [08:00<06:45, 14.47s/it]\n",
      "2025-10-02 15:57:46,933 [INFO] 58%|#####8    | 35/60 [08:27<06:01, 14.46s/it]\n",
      "2025-10-02 15:57:59,367 [INFO] 58%|#####8    | 35/60 [08:40<06:01, 14.46s/it]\n",
      "2025-10-02 15:58:29,320 [INFO] 63%|######3   | 38/60 [09:10<05:15, 14.36s/it]\n",
      "2025-10-02 15:58:39,372 [INFO] 63%|######3   | 38/60 [09:20<05:15, 14.36s/it]\n",
      "2025-10-02 15:59:12,242 [INFO] 68%|######8   | 41/60 [09:52<04:32, 14.34s/it]\n",
      "2025-10-02 15:59:29,379 [INFO] 68%|######8   | 41/60 [10:10<04:32, 14.34s/it]\n",
      "2025-10-02 15:59:54,890 [INFO] 73%|#######3  | 44/60 [10:35<03:48, 14.30s/it]\n",
      "2025-10-02 16:00:09,383 [INFO] 73%|#######3  | 44/60 [10:50<03:48, 14.30s/it]\n",
      "2025-10-02 16:00:37,737 [INFO] 78%|#######8  | 47/60 [11:18<03:05, 14.30s/it]\n",
      "2025-10-02 16:00:49,389 [INFO] 78%|#######8  | 47/60 [11:30<03:05, 14.30s/it]\n",
      "2025-10-02 16:01:20,690 [INFO] 83%|########3 | 50/60 [12:01<02:23, 14.30s/it]\n",
      "2025-10-02 16:01:39,396 [INFO] 83%|########3 | 50/60 [12:20<02:23, 14.30s/it]\n",
      "2025-10-02 16:02:04,800 [INFO] 88%|########8 | 53/60 [12:45<01:40, 14.42s/it]\n",
      "2025-10-02 16:02:19,400 [INFO] 88%|########8 | 53/60 [13:00<01:40, 14.42s/it]\n",
      "2025-10-02 16:02:49,045 [INFO] 93%|#########3| 56/60 [13:29<00:58, 14.52s/it]\n",
      "2025-10-02 16:02:59,405 [INFO] 93%|#########3| 56/60 [13:40<00:58, 14.52s/it]\n",
      "2025-10-02 16:03:34,807 [INFO] 98%|#########8| 59/60 [14:15<00:14, 14.74s/it]\n",
      "2025-10-02 16:03:49,350 [INFO] 100%|##########| 60/60 [14:30<00:00, 14.50s/it]\n"
     ]
    }
   ],
   "source": [
    "# Using Cellpose on the previously defined pictures\n",
    "\n",
    "# loading all the pictures from the DAPI_dir\n",
    "imgs = [io.imread(str(DAPI_dir_path)) for DAPI_dir_path in DAPI_list]\n",
    "\n",
    "model = models.CellposeModel(gpu=True,\n",
    "                             pretrained_model=r'C:\\Users\\v.aubry\\Desktop\\Microscopy_Data\\Jupyter_Notebook\\models\\DAPI_model')\n",
    "\n",
    "\n",
    "# Run segmentation\n",
    "masks, flows, styles = model.eval(imgs, \n",
    "                                 diameter=None,  # Let model estimate diameter\n",
    "                                 channels=[0,0],  # Grayscale images [0,0], RGB would be [2,1] \n",
    "                                 batch_size=8)   # Adjust based on your GPU memory\n",
    "\n",
    "\n",
    "# Saving the Masks\n",
    "io.masks_flows_to_seg(imgs, masks, flows, DAPI_list, channels=None)"
   ]
  },
  {
   "cell_type": "code",
   "execution_count": null,
   "id": "914e2639-04e5-4898-86fb-4489289e6adb",
   "metadata": {},
   "outputs": [],
   "source": []
  }
 ],
 "metadata": {
  "kernelspec": {
   "display_name": "Python 3 (ipykernel)",
   "language": "python",
   "name": "python3"
  },
  "language_info": {
   "codemirror_mode": {
    "name": "ipython",
    "version": 3
   },
   "file_extension": ".py",
   "mimetype": "text/x-python",
   "name": "python",
   "nbconvert_exporter": "python",
   "pygments_lexer": "ipython3",
   "version": "3.10.18"
  }
 },
 "nbformat": 4,
 "nbformat_minor": 5
}

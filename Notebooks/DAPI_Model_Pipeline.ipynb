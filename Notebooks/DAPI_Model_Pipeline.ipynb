{
 "cells": [
  {
   "cell_type": "code",
   "execution_count": 1,
   "id": "4c4bc74f-512c-4fc0-b31e-aebbb9b4e50c",
   "metadata": {},
   "outputs": [
    {
     "name": "stdout",
     "output_type": "stream",
     "text": [
      "creating new log file\n",
      "2025-09-26 11:11:40,042 [INFO] WRITING LOG OUTPUT TO C:\\Users\\v.aubry\\.cellpose\\run.log\n",
      "2025-09-26 11:11:40,046 [INFO] \n",
      "cellpose version: \t4.0.7.dev14+gd95f58a66 \n",
      "platform:       \twin32 \n",
      "python version: \t3.10.18 \n",
      "torch version:  \t2.8.0+cu128\n",
      "2025-09-26 11:11:40,457 [INFO] ** TORCH CUDA version installed and working. **\n"
     ]
    }
   ],
   "source": [
    "#Import#\n",
    "\n",
    "from cellpose import models, core, io, plot\n",
    "import numpy as np\n",
    "from pathlib import Path\n",
    "from tqdm import trange\n",
    "import matplotlib.pyplot as plt\n",
    "from cellpose import train\n",
    "from cellpose import metrics\n",
    "\n",
    "# run this to get printing of progress\n",
    "io.logger_setup()\n",
    "\n",
    "#Check if colab notebook instance has GPU access\n",
    "if core.use_gpu()==False:\n",
    "  raise ImportError(\"No GPU access, change your runtime\")"
   ]
  },
  {
   "cell_type": "code",
   "execution_count": 2,
   "id": "e0090283-1dd7-415e-b03f-045f7859bbc6",
   "metadata": {},
   "outputs": [
    {
     "name": "stdout",
     "output_type": "stream",
     "text": [
      "36 files in DAPI folder:\n",
      "UT_UT--W00014--P00001--Z00000--T00000--DAPI SEM.tif\n",
      "UT_UT--W00014--P00002--Z00000--T00000--DAPI SEM.tif\n",
      "UT_UT--W00014--P00003--Z00000--T00000--DAPI SEM.tif\n",
      "UT_UT--W00014--P00004--Z00000--T00000--DAPI SEM.tif\n",
      "UT_UT--W00014--P00005--Z00000--T00000--DAPI SEM.tif\n",
      "UT_UT--W00014--P00006--Z00000--T00000--DAPI SEM.tif\n",
      "UT_UT--W00014--P00007--Z00000--T00000--DAPI SEM.tif\n",
      "UT_UT--W00014--P00008--Z00000--T00000--DAPI SEM.tif\n",
      "UT_UT--W00014--P00009--Z00000--T00000--DAPI SEM.tif\n",
      "UT_UT--W00014--P00010--Z00000--T00000--DAPI SEM.tif\n",
      "UT_UT--W00014--P00011--Z00000--T00000--DAPI SEM.tif\n",
      "UT_UT--W00014--P00012--Z00000--T00000--DAPI SEM.tif\n",
      "UT_UT--W00014--P00013--Z00000--T00000--DAPI SEM.tif\n",
      "UT_UT--W00014--P00014--Z00000--T00000--DAPI SEM.tif\n",
      "UT_UT--W00014--P00015--Z00000--T00000--DAPI SEM.tif\n",
      "UT_UT--W00014--P00016--Z00000--T00000--DAPI SEM.tif\n",
      "UT_UT--W00014--P00017--Z00000--T00000--DAPI SEM.tif\n",
      "UT_UT--W00014--P00018--Z00000--T00000--DAPI SEM.tif\n",
      "UT_UT--W00014--P00019--Z00000--T00000--DAPI SEM.tif\n",
      "UT_UT--W00014--P00020--Z00000--T00000--DAPI SEM.tif\n",
      "UT_UT--W00014--P00021--Z00000--T00000--DAPI SEM.tif\n",
      "UT_UT--W00014--P00022--Z00000--T00000--DAPI SEM.tif\n",
      "UT_UT--W00014--P00023--Z00000--T00000--DAPI SEM.tif\n",
      "UT_UT--W00014--P00024--Z00000--T00000--DAPI SEM.tif\n",
      "UT_UT--W00014--P00025--Z00000--T00000--DAPI SEM.tif\n",
      "UT_UT--W00014--P00026--Z00000--T00000--DAPI SEM.tif\n",
      "UT_UT--W00014--P00027--Z00000--T00000--DAPI SEM.tif\n",
      "UT_UT--W00014--P00028--Z00000--T00000--DAPI SEM.tif\n",
      "UT_UT--W00014--P00029--Z00000--T00000--DAPI SEM.tif\n",
      "UT_UT--W00014--P00030--Z00000--T00000--DAPI SEM.tif\n",
      "UT_UT--W00014--P00031--Z00000--T00000--DAPI SEM.tif\n",
      "UT_UT--W00014--P00032--Z00000--T00000--DAPI SEM.tif\n",
      "UT_UT--W00014--P00033--Z00000--T00000--DAPI SEM.tif\n",
      "UT_UT--W00014--P00034--Z00000--T00000--DAPI SEM.tif\n",
      "UT_UT--W00014--P00035--Z00000--T00000--DAPI SEM.tif\n",
      "UT_UT--W00014--P00036--Z00000--T00000--DAPI SEM.tif\n"
     ]
    }
   ],
   "source": [
    "#Data#\n",
    "\n",
    "# defining the path to the DAPI pictures\n",
    "DAPI_dir = r'Y:\\Group Members\\Valentin Aubry\\01_Data\\Test_Data_Andreas_small_DAPI'\n",
    "if not Path(DAPI_dir).exists():\n",
    "  raise FileNotFoundError(\"directory does not exist\")\n",
    "\n",
    "pred_ext = \"_seg.npy\"\n",
    "\n",
    "\n",
    "# list all training files \n",
    "files = [f for f in Path(DAPI_dir).glob(\"*\") if \"_pred\" not in f.name and \"_flows\" not in f.name and \"_seg\" not in f.name]\n",
    "\n",
    "if(len(files)==0):\n",
    "  raise FileNotFoundError(\"no files found, did you specify the correct folder and extension?\")\n",
    "else:\n",
    "  print(f\"{len(files)} files in DAPI folder:\")\n",
    "\n",
    "for f in files:\n",
    "  print(f.name)\n",
    "\n",
    "\n",
    "#defining a list of all pictures in the DAPI directory\n",
    "DAPI_dir_path = Path(DAPI_dir)\n",
    "DAPI_list = list(DAPI_dir_path.glob('*.tif'))\n"
   ]
  },
  {
   "cell_type": "code",
   "execution_count": 3,
   "id": "a061509c-804e-4db2-9d93-828a68023ac7",
   "metadata": {},
   "outputs": [
    {
     "name": "stdout",
     "output_type": "stream",
     "text": [
      "2025-09-26 11:11:43,266 [INFO] ** TORCH CUDA version installed and working. **\n",
      "2025-09-26 11:11:43,268 [INFO] >>>> using GPU (CUDA)\n",
      "2025-09-26 11:11:46,327 [INFO] >>>> loading model C:\\Users\\v.aubry\\Desktop\\Microscopy_Data\\Jupyter_Notebook\\models\\DAPI_model\n",
      "2025-09-26 11:11:46,972 [WARNING] channels deprecated in v4.0.1+. If data contain more than 3 channels, only the first 3 channels will be used\n",
      "2025-09-26 11:11:46,978 [INFO] 0%|          | 0/36 [00:00<?, ?it/s]\n",
      "2025-09-26 11:12:28,516 [INFO] 8%|8         | 3/36 [00:41<07:36, 13.85s/it]\n",
      "2025-09-26 11:12:46,982 [INFO] 8%|8         | 3/36 [01:00<07:36, 13.85s/it]\n",
      "2025-09-26 11:13:09,738 [INFO] 17%|#6        | 6/36 [01:22<06:53, 13.78s/it]\n",
      "2025-09-26 11:13:26,991 [INFO] 17%|#6        | 6/36 [01:40<06:53, 13.78s/it]\n",
      "2025-09-26 11:13:51,546 [INFO] 25%|##5       | 9/36 [02:04<06:14, 13.85s/it]\n",
      "2025-09-26 11:14:06,997 [INFO] 25%|##5       | 9/36 [02:20<06:14, 13.85s/it]\n",
      "2025-09-26 11:14:34,573 [INFO] 33%|###3      | 12/36 [02:47<05:37, 14.05s/it]\n",
      "2025-09-26 11:14:47,006 [INFO] 33%|###3      | 12/36 [03:00<05:37, 14.05s/it]\n",
      "2025-09-26 11:15:16,329 [INFO] 42%|####1     | 15/36 [03:29<04:54, 14.00s/it]\n",
      "2025-09-26 11:15:27,014 [INFO] 42%|####1     | 15/36 [03:40<04:54, 14.00s/it]\n",
      "2025-09-26 11:15:58,135 [INFO] 50%|#####     | 18/36 [04:11<04:11, 13.98s/it]\n",
      "2025-09-26 11:16:17,022 [INFO] 50%|#####     | 18/36 [04:30<04:11, 13.98s/it]\n",
      "2025-09-26 11:16:40,020 [INFO] 58%|#####8    | 21/36 [04:53<03:29, 13.97s/it]\n",
      "2025-09-26 11:16:57,030 [INFO] 58%|#####8    | 21/36 [05:10<03:29, 13.97s/it]\n",
      "2025-09-26 11:17:22,094 [INFO] 67%|######6   | 24/36 [05:35<02:47, 13.99s/it]\n",
      "2025-09-26 11:17:37,038 [INFO] 67%|######6   | 24/36 [05:50<02:47, 13.99s/it]\n",
      "2025-09-26 11:18:04,291 [INFO] 75%|#######5  | 27/36 [06:17<02:06, 14.01s/it]\n",
      "2025-09-26 11:18:17,046 [INFO] 75%|#######5  | 27/36 [06:30<02:06, 14.01s/it]\n",
      "2025-09-26 11:18:45,801 [INFO] 83%|########3 | 30/36 [06:58<01:23, 13.96s/it]\n",
      "2025-09-26 11:18:57,053 [INFO] 83%|########3 | 30/36 [07:10<01:23, 13.96s/it]\n",
      "2025-09-26 11:19:27,575 [INFO] 92%|#########1| 33/36 [07:40<00:41, 13.95s/it]\n",
      "2025-09-26 11:19:47,063 [INFO] 92%|#########1| 33/36 [08:00<00:41, 13.95s/it]\n",
      "2025-09-26 11:20:09,118 [INFO] 100%|##########| 36/36 [08:22<00:00, 13.92s/it]\n",
      "2025-09-26 11:20:09,120 [INFO] 100%|##########| 36/36 [08:22<00:00, 13.95s/it]\n"
     ]
    }
   ],
   "source": [
    "# Using Cellpose on the previously defined pictures\n",
    "\n",
    "# loading all the pictures from the DAPI_dir\n",
    "imgs = [io.imread(str(DAPI_dir_path)) for DAPI_dir_path in DAPI_list]\n",
    "\n",
    "model = models.CellposeModel(gpu=True,\n",
    "                             pretrained_model=r'C:\\Users\\v.aubry\\Desktop\\Microscopy_Data\\Jupyter_Notebook\\models\\DAPI_model')\n",
    "\n",
    "\n",
    "# Run segmentation\n",
    "masks, flows, styles = model.eval(imgs, \n",
    "                                 diameter=None,  # Let model estimate diameter\n",
    "                                 channels=[0,0],  # Grayscale images [0,0], RGB would be [2,1] \n",
    "                                 batch_size=8)   # Adjust based on your GPU memory\n",
    "\n",
    "\n",
    "# Saving the Masks\n",
    "io.masks_flows_to_seg(imgs, masks, flows, DAPI_list, channels=None)"
   ]
  },
  {
   "cell_type": "code",
   "execution_count": null,
   "id": "914e2639-04e5-4898-86fb-4489289e6adb",
   "metadata": {},
   "outputs": [],
   "source": []
  }
 ],
 "metadata": {
  "kernelspec": {
   "display_name": "Python 3 (ipykernel)",
   "language": "python",
   "name": "python3"
  },
  "language_info": {
   "codemirror_mode": {
    "name": "ipython",
    "version": 3
   },
   "file_extension": ".py",
   "mimetype": "text/x-python",
   "name": "python",
   "nbconvert_exporter": "python",
   "pygments_lexer": "ipython3",
   "version": "3.11.13"
  }
 },
 "nbformat": 4,
 "nbformat_minor": 5
}

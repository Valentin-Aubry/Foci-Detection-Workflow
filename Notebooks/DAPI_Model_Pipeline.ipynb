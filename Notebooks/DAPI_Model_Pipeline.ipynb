{
 "cells": [
  {
   "cell_type": "code",
   "execution_count": 1,
   "id": "4c4bc74f-512c-4fc0-b31e-aebbb9b4e50c",
   "metadata": {},
   "outputs": [
    {
     "name": "stdout",
     "output_type": "stream",
     "text": [
      "2025-10-03 09:45:54,583 [INFO] WRITING LOG OUTPUT TO C:\\Users\\v.aubry\\.cellpose\\run.log\n",
      "2025-10-03 09:45:54,585 [INFO] \n",
      "cellpose version: \t4.0.7.dev14+gd95f58a66 \n",
      "platform:       \twin32 \n",
      "python version: \t3.10.18 \n",
      "torch version:  \t2.8.0+cu128\n",
      "2025-10-03 09:45:55,027 [INFO] ** TORCH CUDA version installed and working. **\n"
     ]
    }
   ],
   "source": [
    "#Import#\n",
    "\n",
    "from cellpose import models, core, io, plot\n",
    "import numpy as np\n",
    "from pathlib import Path\n",
    "from tqdm import trange\n",
    "import matplotlib.pyplot as plt\n",
    "from cellpose import train\n",
    "from cellpose import metrics\n",
    "\n",
    "# run this to get printing of progress\n",
    "io.logger_setup()\n",
    "\n",
    "#Check if colab notebook instance has GPU access\n",
    "if core.use_gpu()==False:\n",
    "  raise ImportError(\"No GPU access, change your runtime\")"
   ]
  },
  {
   "cell_type": "code",
   "execution_count": 3,
   "id": "e0090283-1dd7-415e-b03f-045f7859bbc6",
   "metadata": {},
   "outputs": [
    {
     "name": "stdout",
     "output_type": "stream",
     "text": [
      "15 files in DAPI folder:\n",
      "ATR1_24h--W00032--P00015--Z00000--T00000--DAPI SEM.tif\n",
      "ATR1_8h--W00029--P00035--Z00000--T00000--DAPI SEM.tif\n",
      "ATR1_UT--W00026--P00005--Z00000--T00000--DAPI SEM.tif\n",
      "ATR2_24h--W00044--P00021--Z00000--T00000--DAPI SEM.tif\n",
      "ATR2_8h--W00041--P00005--Z00000--T00000--DAPI SEM.tif\n",
      "ATR2_UT--W00038--P00017--Z00000--T00000--DAPI SEM.tif\n",
      "ATR3_24h--W00056--P00018--Z00000--T00000--DAPI SEM.tif\n",
      "ATR3_8h--W00053--P00016--Z00000--T00000--DAPI SEM.tif\n",
      "ATR3_UT--W00050--P00018--Z00000--T00000--DAPI SEM.tif\n",
      "ATR4_24h--W00068--P00024--Z00000--T00000--DAPI SEM.tif\n",
      "ATR4_8h--W00065--P00012--Z00000--T00000--DAPI SEM.tif\n",
      "ATR4_UT--W00062--P00010--Z00000--T00000--DAPI SEM.tif\n",
      "UT_24h--W00020--P00003--Z00000--T00000--DAPI SEM.tif\n",
      "UT_8h--W00017--P00004--Z00000--T00000--DAPI SEM.tif\n",
      "UT_UT--W00014--P00010--Z00000--T00000--DAPI SEM.tif\n"
     ]
    }
   ],
   "source": [
    "#Data#\n",
    "\n",
    "# defining the path to the DAPI pictures\n",
    "DAPI_dir = r'Y:\\Group Members\\Valentin Aubry\\01_Data\\Test_Data_Andreas_hard'\n",
    "if not Path(DAPI_dir).exists():\n",
    "  raise FileNotFoundError(\"directory does not exist\")\n",
    "\n",
    "pred_ext = \"_seg.npy\"\n",
    "\n",
    "\n",
    "# list all training files \n",
    "files = [f for f in Path(DAPI_dir).glob(\"*\") if \"DAPI SEM.tif\"  in f.name]\n",
    "\n",
    "if(len(files)==0):\n",
    "  raise FileNotFoundError(\"no files found, did you specify the correct folder and extension?\")\n",
    "else:\n",
    "  print(f\"{len(files)} files in DAPI folder:\")\n",
    "\n",
    "for f in files:\n",
    "  print(f.name)\n",
    "\n",
    "\n",
    "#defining a list of all pictures in the DAPI directory\n",
    "DAPI_dir_path = Path(DAPI_dir)  #DAPI_dir\n",
    "DAPI_list = list(DAPI_dir_path.glob('*DAPI SEM.tif'))\n"
   ]
  },
  {
   "cell_type": "code",
   "execution_count": 4,
   "id": "a061509c-804e-4db2-9d93-828a68023ac7",
   "metadata": {},
   "outputs": [
    {
     "name": "stdout",
     "output_type": "stream",
     "text": [
      "2025-10-03 09:50:07,023 [INFO] ** TORCH CUDA version installed and working. **\n",
      "2025-10-03 09:50:07,025 [INFO] >>>> using GPU (CUDA)\n",
      "2025-10-03 09:50:10,283 [INFO] >>>> loading model C:\\Users\\v.aubry\\Desktop\\Microscopy_Data\\Jupyter_Notebook\\models\\DAPI_model\n",
      "2025-10-03 09:50:21,412 [WARNING] channels deprecated in v4.0.1+. If data contain more than 3 channels, only the first 3 channels will be used\n",
      "2025-10-03 09:50:21,419 [INFO] 0%|          | 0/15 [00:00<?, ?it/s]\n",
      "2025-10-03 09:51:04,600 [INFO] 20%|##        | 3/15 [00:43<02:52, 14.39s/it]\n",
      "2025-10-03 09:51:21,422 [INFO] 20%|##        | 3/15 [01:00<02:52, 14.39s/it]\n",
      "2025-10-03 09:51:47,791 [INFO] 40%|####      | 6/15 [01:26<02:09, 14.40s/it]\n",
      "2025-10-03 09:52:01,431 [INFO] 40%|####      | 6/15 [01:40<02:09, 14.40s/it]\n",
      "2025-10-03 09:52:30,228 [INFO] 60%|######    | 9/15 [02:08<01:25, 14.28s/it]\n",
      "2025-10-03 09:52:41,436 [INFO] 60%|######    | 9/15 [02:20<01:25, 14.28s/it]\n",
      "2025-10-03 09:53:12,872 [INFO] 80%|########  | 12/15 [02:51<00:42, 14.25s/it]\n",
      "2025-10-03 09:53:31,442 [INFO] 80%|########  | 12/15 [03:10<00:42, 14.25s/it]\n",
      "2025-10-03 09:53:56,295 [INFO] 100%|##########| 15/15 [03:34<00:00, 14.33s/it]\n",
      "2025-10-03 09:53:56,297 [INFO] 100%|##########| 15/15 [03:34<00:00, 14.33s/it]\n"
     ]
    }
   ],
   "source": [
    "# Using Cellpose on the previously defined pictures\n",
    "\n",
    "# loading all the pictures from the DAPI_dir\n",
    "imgs = [io.imread(str(DAPI_dir_path)) for DAPI_dir_path in DAPI_list]\n",
    "\n",
    "model = models.CellposeModel(gpu=True,\n",
    "                             pretrained_model=r'C:\\Users\\v.aubry\\Desktop\\Microscopy_Data\\Jupyter_Notebook\\models\\DAPI_model')\n",
    "\n",
    "\n",
    "# Run segmentation\n",
    "masks, flows, styles = model.eval(imgs, \n",
    "                                 diameter=None,  # Let model estimate diameter\n",
    "                                 channels=[0,0],  # Grayscale images [0,0], RGB would be [2,1] \n",
    "                                 batch_size=8)   # Adjust based on your GPU memory\n",
    "\n",
    "\n",
    "# Saving the Masks\n",
    "io.masks_flows_to_seg(imgs, masks, flows, DAPI_list, channels=None)"
   ]
  },
  {
   "cell_type": "code",
   "execution_count": null,
   "id": "914e2639-04e5-4898-86fb-4489289e6adb",
   "metadata": {},
   "outputs": [],
   "source": []
  }
 ],
 "metadata": {
  "kernelspec": {
   "display_name": "Python 3 (ipykernel)",
   "language": "python",
   "name": "python3"
  },
  "language_info": {
   "codemirror_mode": {
    "name": "ipython",
    "version": 3
   },
   "file_extension": ".py",
   "mimetype": "text/x-python",
   "name": "python",
   "nbconvert_exporter": "python",
   "pygments_lexer": "ipython3",
   "version": "3.10.18"
  }
 },
 "nbformat": 4,
 "nbformat_minor": 5
}
